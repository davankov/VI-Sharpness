{
 "cells": [
  {
   "cell_type": "code",
   "execution_count": 1,
   "metadata": {},
   "outputs": [],
   "source": [
    "# sys.path.append(\"path_to_popov_experiments_folder\") add a path to the popov_experiments folder\n",
    "from Popov_Experiments.algorithms import Algorithm, SGD, Popov\n",
    "import torch\n",
    "import matplotlib.pyplot as plt\n",
    "import matplotlib\n",
    "import math\n",
    "from collections import defaultdict\n",
    "import numpy as np"
   ]
  },
  {
   "cell_type": "code",
   "execution_count": 2,
   "metadata": {},
   "outputs": [],
   "source": [
    "plt.rcParams.update({\n",
    "    \"text.usetex\": True,\n",
    "    'font.size'   : 15})\n",
    "\n",
    "import matplotlib as mpl\n",
    "mpl.rcParams.update(mpl.rcParamsDefault)"
   ]
  },
  {
   "cell_type": "code",
   "execution_count": 3,
   "metadata": {},
   "outputs": [],
   "source": [
    "from Popov_Experiments.utils_ import generate_F"
   ]
  },
  {
   "cell_type": "code",
   "execution_count": 4,
   "metadata": {},
   "outputs": [],
   "source": [
    "def run_experiment(n_exper, n_samples, dim, mu, L, n_steps=20000, sampler=None, trashold=None, noise=True):\n",
    "    results = defaultdict(list)\n",
    "    results[\"projection\"] = []\n",
    "    results[\"popov\"] = []\n",
    "    results[\"kappa\"] = []\n",
    "    for i in range(n_exper):\n",
    "        if i % 5 == 0:\n",
    "            print(i)\n",
    "        J, abs = generate_F(n_samples, dim, dim, mu,mu, L, L)\n",
    "        sgd = SGD(J, abs, mu, noise=noise)\n",
    "        res = sgd.run(n_steps=n_steps, sampler=sampler, scheduler=\"stich\", trashold=trashold)\n",
    "        results[\"projection\"].append(res[\"Dist2Sol\"])\n",
    "        popov = Popov(J, abs, mu, noise=noise)\n",
    "        res_popov = popov.run(n_steps=n_steps, sampler=sampler, scheduler=\"stich\", trashold=trashold)\n",
    "        results[\"popov\"].append(res_popov[\"Dist2Sol\"])\n",
    "        results[\"kappa\"].append(popov.L / popov.mu)\n",
    "    results[\"popov\"] = np.array(results[\"popov\"])\n",
    "    results[\"projection\"] = np.array(results[\"projection\"])\n",
    "    results[\"kappa\"] = np.array(results[\"kappa\"])\n",
    "    results[\"J\"] = J\n",
    "    results[\"popov_met\"] = popov\n",
    "    results[\"projection_met\"] = sgd\n",
    "    plt.figure(figsize=(8,6))\n",
    "    plt.plot(results[\"projection\"].mean(0), label=\"Projection\", marker=\"o\", markevery=n_steps//10)\n",
    "    plt.plot(results[\"popov\"].mean(0), label=\"Popov\",   marker=\"s\", markevery=n_steps//10)\n",
    "    plt.yscale('log')\n",
    "    plt.xlim(0, n_steps)\n",
    "    plt.ylabel(\"Distance to solution\")\n",
    "    plt.xlabel(\"Number of iterations\")\n",
    "    if trashold is  None:\n",
    "        trashold = n_steps//2\n",
    "    plt.vlines(trashold, ymin =  min(min(results[\"projection\"].mean(0)), min(results[\"popov\"].mean(0))),\n",
    "     ymax = max(max(results[\"projection\"].mean(0)), max(results[\"popov\"].mean(0))), color=\"grey\",linestyle='dashed', label=\"Threshold\")\n",
    "    plt.legend()\n",
    "    plt.savefig(\"stich_kappa_{:.1f}_tr_{}_noise_{}.pdf\".format(results[\"kappa\"].mean(0), trashold, int(noise)))\n",
    "    return results"
   ]
  },
  {
   "cell_type": "code",
   "execution_count": 5,
   "metadata": {},
   "outputs": [
    {
     "name": "stdout",
     "output_type": "stream",
     "text": [
      "0\n",
      "5\n",
      "10\n",
      "15\n"
     ]
    }
   ],
   "source": [
    "dim=30\n",
    "n_samples = 1\n",
    "mu = 0.2\n",
    "L = 1.0\n",
    "n_exper=20\n",
    "_ =run_experiment(n_exper, n_samples, dim, mu, L, n_steps=10000, sampler=None)"
   ]
  },
  {
   "cell_type": "markdown",
   "metadata": {},
   "source": [
    "## Stepsizes from (7), Trashold 2000"
   ]
  },
  {
   "cell_type": "code",
   "execution_count": 12,
   "metadata": {},
   "outputs": [
    {
     "name": "stdout",
     "output_type": "stream",
     "text": [
      "0\n",
      "5\n",
      "10\n",
      "15\n"
     ]
    }
   ],
   "source": [
    "dim=30\n",
    "n_samples = 1\n",
    "mu = 0.2\n",
    "L = 1.0\n",
    "n_exper=20\n",
    "_ =run_experiment(n_exper, n_samples, dim, mu, L, n_steps=10000, sampler=None)"
   ]
  },
  {
   "cell_type": "code",
   "execution_count": 13,
   "metadata": {},
   "outputs": [
    {
     "name": "stdout",
     "output_type": "stream",
     "text": [
      "0\n",
      "5\n",
      "10\n",
      "15\n"
     ]
    }
   ],
   "source": [
    "dim=30\n",
    "n_samples = 1\n",
    "mu = 0.02\n",
    "L = 1.0\n",
    "n_exper=20\n",
    "_ = run_experiment(n_exper, n_samples, dim, mu, L, n_steps=10000, sampler=None)"
   ]
  },
  {
   "cell_type": "code",
   "execution_count": 21,
   "metadata": {},
   "outputs": [
    {
     "name": "stdout",
     "output_type": "stream",
     "text": [
      "0\n",
      "5\n",
      "10\n",
      "15\n"
     ]
    }
   ],
   "source": [
    "dim=30\n",
    "n_samples = 1\n",
    "mu = 0.002\n",
    "L = 1.0\n",
    "n_exper=20\n",
    "_ = run_experiment(n_exper, n_samples, dim, mu, L, n_steps=10000, sampler=None)"
   ]
  },
  {
   "cell_type": "markdown",
   "metadata": {},
   "source": [
    "## Trashold 200"
   ]
  },
  {
   "cell_type": "code",
   "execution_count": 15,
   "metadata": {},
   "outputs": [
    {
     "name": "stdout",
     "output_type": "stream",
     "text": [
      "0\n",
      "5\n",
      "10\n",
      "15\n"
     ]
    }
   ],
   "source": [
    "dim=30\n",
    "n_samples = 1\n",
    "mu = 0.2\n",
    "L = 1.0\n",
    "n_exper=20\n",
    "_ = run_experiment(n_exper, n_samples, dim, mu, L, n_steps=10000, sampler=None, trashold=200)"
   ]
  },
  {
   "cell_type": "code",
   "execution_count": 16,
   "metadata": {},
   "outputs": [
    {
     "name": "stdout",
     "output_type": "stream",
     "text": [
      "0\n",
      "5\n",
      "10\n",
      "15\n"
     ]
    }
   ],
   "source": [
    "dim=30\n",
    "n_samples = 1\n",
    "mu = 0.02\n",
    "L = 1.0\n",
    "n_exper=20\n",
    "_ = run_experiment(n_exper, n_samples, dim, mu, L, n_steps=10000, sampler=None, trashold=200)"
   ]
  },
  {
   "cell_type": "code",
   "execution_count": 17,
   "metadata": {},
   "outputs": [
    {
     "name": "stdout",
     "output_type": "stream",
     "text": [
      "0\n",
      "5\n",
      "10\n",
      "15\n"
     ]
    }
   ],
   "source": [
    "dim=30\n",
    "n_samples = 1\n",
    "mu = 0.002\n",
    "L = 1.0\n",
    "n_exper=20\n",
    "_ = run_experiment(n_exper, n_samples, dim, mu, L, n_steps=10000, sampler=None, trashold=200)"
   ]
  },
  {
   "cell_type": "markdown",
   "metadata": {},
   "source": [
    "## Finite sum VI"
   ]
  },
  {
   "cell_type": "code",
   "execution_count": 7,
   "metadata": {},
   "outputs": [
    {
     "name": "stdout",
     "output_type": "stream",
     "text": [
      "0\n",
      "5\n",
      "10\n",
      "15\n"
     ]
    }
   ],
   "source": [
    "dim=30\n",
    "n_samples = 20\n",
    "mu = 0.2\n",
    "L = 1.0\n",
    "n_exper=20\n",
    "_ =run_experiment(n_exper, n_samples, dim, mu, L, n_steps=10000, sampler='uni', trashold=200, noise=False) "
   ]
  },
  {
   "cell_type": "code",
   "execution_count": 8,
   "metadata": {},
   "outputs": [
    {
     "name": "stdout",
     "output_type": "stream",
     "text": [
      "0\n",
      "5\n",
      "10\n",
      "15\n"
     ]
    }
   ],
   "source": [
    "dim=30\n",
    "n_samples = 20\n",
    "mu = 0.02\n",
    "L = 1.0\n",
    "n_exper=20\n",
    "_ = run_experiment(n_exper, n_samples, dim, mu, L, n_steps=10000, sampler='uni', trashold=200, noise=False) "
   ]
  },
  {
   "cell_type": "code",
   "execution_count": 9,
   "metadata": {},
   "outputs": [
    {
     "name": "stdout",
     "output_type": "stream",
     "text": [
      "0\n",
      "5\n",
      "10\n",
      "15\n"
     ]
    }
   ],
   "source": [
    "dim=30\n",
    "n_samples = 20\n",
    "mu = 0.002\n",
    "L = 1.0\n",
    "n_exper=20\n",
    "_ = run_experiment(n_exper, n_samples, dim, mu, L, n_steps=10000, sampler='uni', trashold=200, noise=False) "
   ]
  },
  {
   "cell_type": "code",
   "execution_count": null,
   "metadata": {},
   "outputs": [],
   "source": []
  }
 ],
 "metadata": {
  "kernelspec": {
   "display_name": "Python 3.8.2 64-bit",
   "language": "python",
   "name": "python3"
  },
  "language_info": {
   "codemirror_mode": {
    "name": "ipython",
    "version": 3
   },
   "file_extension": ".py",
   "mimetype": "text/x-python",
   "name": "python",
   "nbconvert_exporter": "python",
   "pygments_lexer": "ipython3",
   "version": "3.8.2"
  },
  "orig_nbformat": 4,
  "vscode": {
   "interpreter": {
    "hash": "aee8b7b246df8f9039afb4144a1f6fd8d2ca17a180786b69acc140d282b71a49"
   }
  }
 },
 "nbformat": 4,
 "nbformat_minor": 2
}
